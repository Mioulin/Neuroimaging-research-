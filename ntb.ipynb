{
 "cells": [
  {
   "cell_type": "code",
   "execution_count": 2,
   "metadata": {},
   "outputs": [],
   "source": [
    "from func import *\n",
    "import yaml\n",
    "# load_and_pickle()\n",
    "# text_process_and_pickle(pd.read_pickle('pickled/df_all'))\n",
    "df = pd.read_pickle('pickled/df_all_stemmed')#[['AB', 'AB_m', 'TI', 'TI_m']]\n",
    "df['words'] = ' ' + df['AB_m'] + ' ' + df['TI_m'] + ' '\n",
    "dict_with_words = yaml.full_load(open(\"methods.yaml\", encoding='utf-8'))\n",
    "dict_with_words = {k: [' ' + ' '.join([text_process(xx) for xx in x]) + ' ' for x in v] for k, v in dict_with_words.items()}\n",
    "df['methods'] = df['words'].map(lambda x: [k for k, v in dict_with_words.items() if any([tag in x for tag in v])])\n",
    "df[['AB', 'TI', 'year', 'PM', 'methods']].to_csv('output.csv')\n",
    "\n",
    "\n"
   ]
  },
  {
   "cell_type": "code",
   "execution_count": 3,
   "metadata": {},
   "outputs": [
    {
     "data": {
      "text/plain": [
       "0             []\n",
       "1    [fMRI, LFP]\n",
       "2             []\n",
       "3          [MRI]\n",
       "4          [EEG]\n",
       "5     [EEG, MEG]\n",
       "6     [EEG, TMS]\n",
       "7         [fMRI]\n",
       "8         [fMRI]\n",
       "9     [EEG, MRI]\n",
       "Name: methods, dtype: object"
      ]
     },
     "execution_count": 3,
     "metadata": {},
     "output_type": "execute_result"
    }
   ],
   "source": [
    "df['methods'].head(10)"
   ]
  }
 ],
 "metadata": {
  "kernelspec": {
   "display_name": "Python 3",
   "language": "python",
   "name": "python3"
  },
  "language_info": {
   "codemirror_mode": {
    "name": "ipython",
    "version": 3
   },
   "file_extension": ".py",
   "mimetype": "text/x-python",
   "name": "python",
   "nbconvert_exporter": "python",
   "pygments_lexer": "ipython3",
   "version": "3.6.7"
  }
 },
 "nbformat": 4,
 "nbformat_minor": 1
}
